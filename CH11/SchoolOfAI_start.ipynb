{
 "cells": [
  {
   "cell_type": "code",
   "execution_count": 1,
   "id": "every-residence",
   "metadata": {},
   "outputs": [],
   "source": [
    "from sklearn.metrics import mean_squared_error, mean_absolute_error\n",
    "from statsmodels.graphics.tsaplots import plot_acf, plot_pacf\n",
    "from statsmodels.tsa.seasonal import seasonal_decompose, STL\n",
    "from statsmodels.stats.diagnostic import acorr_ljungbox\n",
    "from statsmodels.tsa.statespace.sarimax import SARIMAX\n",
    "from statsmodels.tsa.arima_process import ArmaProcess\n",
    "from statsmodels.graphics.gofplots import qqplot\n",
    "from statsmodels.tsa.stattools import adfuller\n",
    "from tqdm import tqdm_notebook\n",
    "from itertools import product\n",
    "from typing import Union\n",
    "\n",
    "import matplotlib.pyplot as plt\n",
    "import statsmodels.api as sm\n",
    "import pandas as pd\n",
    "import numpy as np\n",
    "\n",
    "import warnings\n",
    "warnings.filterwarnings('ignore')\n",
    "\n",
    "%matplotlib inline"
   ]
  },
  {
   "cell_type": "markdown",
   "id": "designing-contractor",
   "metadata": {},
   "source": [
    "Data source:\n",
    "https://rdrr.io/cran/fpp/man/a10.html"
   ]
  },
  {
   "cell_type": "code",
   "execution_count": null,
   "id": "thorough-above",
   "metadata": {},
   "outputs": [],
   "source": [
    "# Read CSV and display first 10 rows\n",
    "\n",
    "df = pd.read_csv('data/AusAntidiabeticDrug.csv')\n",
    "df.head(10)"
   ]
  },
  {
   "cell_type": "code",
   "execution_count": null,
   "id": "filled-business",
   "metadata": {},
   "outputs": [],
   "source": [
    "# Display last 10 rows\n",
    "\n",
    "df.tail(10)"
   ]
  },
  {
   "cell_type": "code",
   "execution_count": null,
   "id": "mathematical-session",
   "metadata": {},
   "outputs": [],
   "source": [
    "# Display shape\n",
    "\n",
    "df.shape"
   ]
  },
  {
   "cell_type": "markdown",
   "id": "french-centre",
   "metadata": {},
   "source": [
    "## Visualization "
   ]
  },
  {
   "cell_type": "code",
   "execution_count": null,
   "id": "small-capital",
   "metadata": {},
   "outputs": [],
   "source": [
    "# Plot time series\n",
    "\n",
    "fig, ax = plt.subplots()\n",
    "\n",
    "ax.plot(df.y)\n",
    "ax.set_xlabel('Date')\n",
    "ax.set_ylabel('Number of anti-diabetic drug prescriptions')\n",
    "\n",
    "plt.xticks(np.arange(6, 203, 12), np.arange(1992, 2009, 1))\n",
    "\n",
    "fig.autofmt_xdate()\n",
    "plt.tight_layout()"
   ]
  },
  {
   "cell_type": "markdown",
   "id": "tough-graduate",
   "metadata": {},
   "source": [
    "## Exploration "
   ]
  },
  {
   "cell_type": "code",
   "execution_count": null,
   "id": "injured-liabilities",
   "metadata": {},
   "outputs": [],
   "source": [
    "# Decompose time series into 3 components: trend, seasonal component, residuals\n",
    "\n",
    "\n",
    "\n",
    "# Plot all components\n",
    "\n",
    "fig, (ax1, ax2, ax3, ax4) = plt.subplots(nrows=4, ncols=1, sharex=True, figsize=(10,8))\n",
    "\n",
    "ax1.plot(decomposition.observed)\n",
    "ax1.set_ylabel('Observed')\n",
    "\n",
    "ax2.plot(decomposition.trend)\n",
    "ax2.set_ylabel('Trend')\n",
    "\n",
    "ax3.plot(decomposition.seasonal)\n",
    "ax3.set_ylabel('Seasonal')\n",
    "\n",
    "ax4.plot(decomposition.resid)\n",
    "ax4.set_ylabel('Residuals')\n",
    "\n",
    "plt.xticks(np.arange(6, 203, 12), np.arange(1992, 2009, 1))\n",
    "\n",
    "fig.autofmt_xdate()\n",
    "plt.tight_layout()"
   ]
  },
  {
   "cell_type": "markdown",
   "id": "convinced-dayton",
   "metadata": {},
   "source": [
    "## Modeling "
   ]
  },
  {
   "cell_type": "code",
   "execution_count": null,
   "id": "completed-staff",
   "metadata": {},
   "outputs": [],
   "source": [
    "# Test for stationarity\n",
    "\n",
    "\n",
    "\n",
    "# Print ADF statistic and p-value\n",
    "\n",
    "print(f'ADF Statistic: {ad_fuller_result[0]}')\n",
    "print(f'p-value: {ad_fuller_result[1]}')"
   ]
  },
  {
   "cell_type": "code",
   "execution_count": null,
   "id": "activated-pottery",
   "metadata": {},
   "outputs": [],
   "source": [
    "# Difference the series\n",
    "\n",
    "\n",
    "\n",
    "# Test for stationarity\n",
    "\n",
    "\n",
    "\n",
    "# Print ADF statistic and p-value\n",
    "\n",
    "print(f'ADF Statistic: {ad_fuller_result[0]}')\n",
    "print(f'p-value: {ad_fuller_result[1]}')"
   ]
  },
  {
   "cell_type": "code",
   "execution_count": null,
   "id": "native-pioneer",
   "metadata": {},
   "outputs": [],
   "source": [
    "# Seasonal difference\n",
    "\n",
    "\n",
    "\n",
    "# Test for stationarity\n",
    "\n",
    "\n",
    "\n",
    "# Print ADF statistic and p-value\n",
    "print(f'ADF Statistic: {ad_fuller_result[0]}')\n",
    "print(f'p-value: {ad_fuller_result[1]}')"
   ]
  },
  {
   "cell_type": "markdown",
   "id": "scenic-organization",
   "metadata": {},
   "source": [
    "Since we took one difference and one seasonal difference, this means that $d=1$ and $D=1$. Finally, since we have monthly data, $m=12$."
   ]
  },
  {
   "cell_type": "markdown",
   "id": "academic-space",
   "metadata": {},
   "source": [
    "### Train/test split "
   ]
  },
  {
   "cell_type": "code",
   "execution_count": null,
   "id": "moderate-reaction",
   "metadata": {},
   "outputs": [],
   "source": [
    "train = df.y[:168]\n",
    "test = df.y[168:]\n",
    "\n",
    "print(len(test))"
   ]
  },
  {
   "cell_type": "code",
   "execution_count": null,
   "id": "conceptual-sussex",
   "metadata": {},
   "outputs": [],
   "source": [
    "# Visualize train/test split\n",
    "\n",
    "fig, ax = plt.subplots()\n",
    "\n",
    "ax.plot(df.y)\n",
    "ax.set_xlabel('Date')\n",
    "ax.set_ylabel('Number of anti-diabetic drug prescriptions')\n",
    "ax.axvspan(168, 204, color='#808080', alpha=0.2)\n",
    "\n",
    "plt.xticks(np.arange(6, 203, 12), np.arange(1992, 2009, 1))\n",
    "\n",
    "fig.autofmt_xdate()\n",
    "plt.tight_layout()"
   ]
  },
  {
   "cell_type": "markdown",
   "id": "adopted-rebel",
   "metadata": {},
   "source": [
    "### SARIMA(p,1,q)(P,1,Q)<sub>12<sub> "
   ]
  },
  {
   "cell_type": "code",
   "execution_count": null,
   "id": "premier-bookmark",
   "metadata": {},
   "outputs": [],
   "source": [
    "# Function to fit many SARIMAX(p,d,q)(P,D,Q)m combinations\n",
    "\n",
    "from typing import Union\n",
    "from tqdm import tqdm_notebook\n",
    "from statsmodels.tsa.statespace.sarimax import SARIMAX\n",
    "\n",
    "def optimize_SARIMAX(endog: Union[pd.Series, list], exog: Union[pd.Series, list], order_list: list, d: int, D: int, s: int) -> pd.DataFrame:\n",
    "    \n",
    "    results = []\n",
    "    \n",
    "    for order in tqdm_notebook(order_list):\n",
    "        try: \n",
    "            model = SARIMAX(\n",
    "                endog,\n",
    "                exog,\n",
    "                order=(order[0], d, order[1]),\n",
    "                seasonal_order=(order[2], D, order[3], s),\n",
    "                simple_differencing=False).fit(disp=False)\n",
    "        except:\n",
    "            continue\n",
    "            \n",
    "        results.append([order, model.aic])\n",
    "        \n",
    "    result_df = pd.DataFrame(results)\n",
    "    result_df.columns = ['(p,q,P,Q)', 'AIC']\n",
    "    \n",
    "    #Sort in ascending order, lower AIC is better\n",
    "    result_df = result_df.sort_values(by='AIC', ascending=True).reset_index(drop=True)\n",
    "    \n",
    "    return result_df"
   ]
  },
  {
   "cell_type": "code",
   "execution_count": null,
   "id": "ideal-decimal",
   "metadata": {},
   "outputs": [],
   "source": [
    "# Define range of values for p, q, P and Q\n",
    "\n",
    "ps = range(0, 5, 1)\n",
    "qs = range(0, 5, 1)\n",
    "Ps = range(0, 5, 1)\n",
    "Qs = range(0, 5, 1)\n",
    "\n",
    "# Create list of all unique combinations\n",
    "order_list = list(product(ps, qs, Ps, Qs))\n",
    "\n",
    "# Set constants\n",
    "d = 1\n",
    "D = 1\n",
    "s = 12"
   ]
  },
  {
   "cell_type": "code",
   "execution_count": null,
   "id": "understood-relay",
   "metadata": {},
   "outputs": [],
   "source": [
    "# Find the (p,d,q)(P,D,Q)m combination with the lowest AIC\n",
    "# This takes very long to run (about 30 min).\n",
    "# The resulting order should be: p=2, q=3, P=1, Q=3\n",
    "\n",
    "SARIMA_result_df = optimize_SARIMAX(train, None, order_list, d, D, s)\n",
    "SARIMA_result_df"
   ]
  },
  {
   "cell_type": "code",
   "execution_count": null,
   "id": "ultimate-blind",
   "metadata": {},
   "outputs": [],
   "source": [
    "# Fit optimal model to study its residuals\n",
    "\n",
    "\n",
    "# Print model summary\n",
    "print(SARIMA_model_fit.summary())"
   ]
  },
  {
   "cell_type": "code",
   "execution_count": null,
   "id": "tamil-wedding",
   "metadata": {},
   "outputs": [],
   "source": [
    "# Plot residual's diagnostics\n",
    "\n"
   ]
  },
  {
   "cell_type": "code",
   "execution_count": null,
   "id": "colonial-excess",
   "metadata": {},
   "outputs": [],
   "source": [
    "# Run the Ljung-Box test\n",
    "\n",
    "\n",
    "\n",
    "# Print p-values\n",
    "print(pvalue)"
   ]
  },
  {
   "cell_type": "markdown",
   "id": "adjustable-specialist",
   "metadata": {},
   "source": [
    "## Forecasting "
   ]
  },
  {
   "cell_type": "code",
   "execution_count": null,
   "id": "every-eleven",
   "metadata": {},
   "outputs": [],
   "source": [
    "# Function to perform rolling forecasts\n",
    "\n",
    "def rolling_forecast(df: pd.DataFrame, train_len: int, horizon: int, window: int, method: str) -> list:\n",
    "    \n",
    "    total_len = train_len + horizon\n",
    "    end_idx = train_len\n",
    "\n",
    "    if method == 'last_season':\n",
    "        pred_last_season = []\n",
    "        \n",
    "        for i in range(train_len, total_len, window):\n",
    "            last_season = df['y'][i-window:i].values\n",
    "            pred_last_season.extend(last_season)\n",
    "            \n",
    "        return pred_last_season\n",
    "    \n",
    "    elif method == 'SARIMA':\n",
    "        pred_SARIMA = []\n",
    "        \n",
    "        for i in range(train_len, total_len, window):\n",
    "            model = SARIMAX(df['y'][:i], order=(2,1,3), seasonal_order=(1,1,3,12), simple_differencing=False)\n",
    "            res = model.fit(disp=False)\n",
    "            predictions = res.get_prediction(0, i + window - 1)\n",
    "            oos_pred = predictions.predicted_mean.iloc[-window:]\n",
    "            pred_SARIMA.extend(oos_pred)\n",
    "            \n",
    "        return pred_SARIMA"
   ]
  },
  {
   "cell_type": "code",
   "execution_count": null,
   "id": "political-wheel",
   "metadata": {},
   "outputs": [],
   "source": [
    "pred_df = df[168:]\n",
    "\n",
    "pred_df"
   ]
  },
  {
   "cell_type": "code",
   "execution_count": null,
   "id": "miniature-forest",
   "metadata": {},
   "outputs": [],
   "source": [
    "# Define length of training set, horizon of forecast, and the window of forecast\n",
    "\n",
    "TRAIN_LEN = 168\n",
    "HORIZON = 36\n",
    "WINDOW = 12\n",
    "\n",
    "# Perform rolling forecast with the naive seasonal baaeline\n",
    "\n",
    "\n",
    "\n",
    "# Display the predictions\n",
    "pred_df"
   ]
  },
  {
   "cell_type": "code",
   "execution_count": null,
   "id": "signal-hayes",
   "metadata": {},
   "outputs": [],
   "source": [
    "# Perform rolling forecast with the SARIMA model\n",
    "\n",
    "\n",
    "\n",
    "# Display the predictions\n",
    "\n",
    "pred_df"
   ]
  },
  {
   "cell_type": "code",
   "execution_count": null,
   "id": "fresh-example",
   "metadata": {},
   "outputs": [],
   "source": [
    "# Plot actual and predicted values\n",
    "\n",
    "fig, ax = plt.subplots()\n",
    "\n",
    "ax.plot(df.y)\n",
    "ax.plot(pred_df.y, 'b-', label='actual')\n",
    "ax.plot(pred_df.last_season, 'r:', label='naive seasonal')\n",
    "ax.plot(pred_df.SARIMA, 'k--', label='SARIMA')\n",
    "ax.set_xlabel('Date')\n",
    "ax.set_ylabel('Number of anti-diabetic drug prescriptions')\n",
    "ax.axvspan(168, 204, color='#808080', alpha=0.2)\n",
    "\n",
    "ax.legend(loc=2)\n",
    "\n",
    "plt.xticks(np.arange(6, 203, 12), np.arange(1992, 2009, 1))\n",
    "plt.xlim(120, 204)\n",
    "\n",
    "fig.autofmt_xdate()\n",
    "plt.tight_layout()"
   ]
  },
  {
   "cell_type": "markdown",
   "id": "strange-dayton",
   "metadata": {},
   "source": [
    "## Evaluate "
   ]
  },
  {
   "cell_type": "code",
   "execution_count": null,
   "id": "matched-fraction",
   "metadata": {},
   "outputs": [],
   "source": [
    "# Define the MAPE function\n",
    "\n",
    "def mape(y_true, y_pred):\n",
    "    return np.mean(np.abs((y_true - y_pred) / y_true)) * 100"
   ]
  },
  {
   "cell_type": "code",
   "execution_count": null,
   "id": "agreed-orientation",
   "metadata": {},
   "outputs": [],
   "source": [
    "# Compute MAPE for the baseline and SARIMA model\n",
    "\n",
    "\n",
    "\n",
    "# Display MAPE for each model\n",
    "print(mape_naive_seasonal, mape_SARIMA)"
   ]
  },
  {
   "cell_type": "code",
   "execution_count": null,
   "id": "radio-prague",
   "metadata": {},
   "outputs": [],
   "source": [
    "# Plot a barc chart to dispplay the MAPE nicely\n",
    "\n",
    "fig, ax = plt.subplots()\n",
    "\n",
    "x = ['naive seasonal', 'SARIMA(2,1,3)(1,1,3,12)']\n",
    "y = [mape_naive_seasonal, mape_SARIMA]\n",
    "\n",
    "ax.bar(x, y, width=0.4)\n",
    "ax.set_xlabel('Models')\n",
    "ax.set_ylabel('MAPE (%)')\n",
    "ax.set_ylim(0, 15)\n",
    "\n",
    "for index, value in enumerate(y):\n",
    "    plt.text(x=index, y=value + 1, s=str(round(value,2)), ha='center')\n",
    "\n",
    "plt.tight_layout()"
   ]
  },
  {
   "cell_type": "code",
   "execution_count": null,
   "id": "split-policy",
   "metadata": {},
   "outputs": [],
   "source": []
  }
 ],
 "metadata": {
  "kernelspec": {
   "display_name": "Python 3 (ipykernel)",
   "language": "python",
   "name": "python3"
  },
  "language_info": {
   "codemirror_mode": {
    "name": "ipython",
    "version": 3
   },
   "file_extension": ".py",
   "mimetype": "text/x-python",
   "name": "python",
   "nbconvert_exporter": "python",
   "pygments_lexer": "ipython3",
   "version": "3.7.4"
  }
 },
 "nbformat": 4,
 "nbformat_minor": 5
}
